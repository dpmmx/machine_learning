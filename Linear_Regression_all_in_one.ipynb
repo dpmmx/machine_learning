{
 "cells": [
  {
   "cell_type": "markdown",
   "id": "6a06ca09-caf1-4dac-a17c-44a90296d4d9",
   "metadata": {
    "tags": []
   },
   "source": [
    "## Linear Regression\n",
    "#### Linear regression performs the task to predict a dependent variable value (y) based on a given independent variable (X). So, this regression technique finds out a linear relationship between X (input) and y(output). Hence, the name is Linear Regression.\n",
    "\n",
    "## Linear Regerssion Maths:\n",
    "#### 1. Function of Linear Regression:\n",
    "### $$\\hat{y} = w.X + b$$\n",
    "Where <b>X</b> is <i>input variables</i>,<br><b>$\\hat{y}$</b> is <i>output variable</i>,<br><b>w</b> is <i>weight / coefficient of X</i><br>and <b>b</b> is <i>bias / intercept</i>\n",
    "\n",
    "#### 2. Cost Function MSE:\n",
    "### $$\n",
    "\\mathbf{MSE}\n",
    "=\n",
    "\\mathbf{J (w,b)}\n",
    "=\n",
    "\\frac{1}{\\mathbf{N}}\n",
    "\\sum_{i=1}^{\\mathbf{n}}\n",
    "(y_i - \\hat{y_i})^2\n",
    "\\newline\n",
    "=\n",
    "\\frac{1}{\\mathbf{N}}\n",
    "\\sum_{i=1}^{\\mathbf{n}}\n",
    "(y_i - (w.X_i + b))^2\n",
    "$$\n",
    "Where <b>J</b> is <i>cost / loss</i><br><b>N</b> is <i>number of samples / datapoints</i>,<br><b>y</b> is <i>actual</i><br>and <b>$\\hat{y}$</b> is <i>predicted</i>\n",
    "\n",
    "#### 3. Gradient Calculation (Minimizing cost / loss):\n",
    "#### 3.a. Derivative of cost / loss (J):\n",
    "### $$\n",
    "\\mathbf{J' (m,b)}\n",
    "=\n",
    "\\begin{bmatrix}\n",
    "\\partial w\n",
    "\\newline\n",
    "\\partial b\n",
    "\\end{bmatrix}\n",
    "=\n",
    "\\begin{bmatrix}\n",
    "\\frac{\\partial J}{\\partial w}\n",
    "\\newline\n",
    "\\frac{\\partial J}{\\partial b}\n",
    "\\end{bmatrix}\n",
    "=\n",
    "\\begin{bmatrix}\n",
    "\\frac{\\partial J (w,b)}{\\partial w}\n",
    "\\newline\n",
    "\\frac{\\partial J (w,b)}{\\partial b}\n",
    "\\end{bmatrix}\n",
    "=\n",
    "\\begin{bmatrix}\n",
    "\\frac{1}{\\mathbf{N}}\\sum\\mathbf{-2X_i}(y_i - (w.X_i + b))\n",
    "\\newline\n",
    "\\frac{1}{\\mathbf{N}}\\sum\\mathbf{-2}(y_i - (w.X_i + b))\n",
    "\\end{bmatrix}\n",
    "$$\n",
    "#### Simplification:\n",
    "### $$\n",
    "\\partial w\n",
    "=\n",
    "\\frac{1}{\\mathbf{N}}\\sum\\mathbf{-2X_i}(y_i - (w.X_i + b))\n",
    "=\n",
    "\\frac{1}{\\mathbf{N}}\\sum\\mathbf{-2X_i}(y_i - \\hat{y_i})\n",
    "=\n",
    "\\frac{1}{\\mathbf{N}}\\sum\\mathbf{2X_i}(\\hat{y_i} - y_i)\n",
    "$$\n",
    "and\n",
    "### $$\n",
    "\\partial b\n",
    "=\n",
    "\\frac{1}{\\mathbf{N}}\\sum\\mathbf{-2}(y_i - (w.X_i + b))\n",
    "=\n",
    "\\frac{1}{\\mathbf{N}}\\sum\\mathbf{-2}(y_i - \\hat{y_i})\n",
    "=\n",
    "\\frac{1}{\\mathbf{N}}\\sum\\mathbf{2}(\\hat{y_i} - y_i)\n",
    "$$\n",
    "#### 3.b. Update rule of weight (w) and bias (b):\n",
    "### $$\n",
    "\\mathbf{w'}\n",
    "=\n",
    "\\mathbf{w} - \\partial w\n",
    "$$\n",
    "and\n",
    "### $$\n",
    "\\mathbf{b'}\n",
    "=\n",
    "\\mathbf{b} - \\partial b\n",
    "$$\n",
    "\n",
    "##### Now, introducing learning rate $\\alpha$ to it:\n",
    "### $$\n",
    "\\mathbf{w'}\n",
    "=\n",
    "\\mathbf{w} - \\alpha . \\partial w\n",
    "$$\n",
    "and\n",
    "### $$\n",
    "\\mathbf{b'}\n",
    "=\n",
    "\\mathbf{b} - \\alpha . \\partial b\n",
    "$$\n",
    "#### where $\\alpha$ = 0 represents no change and 1 represent change is exactly of $\\mathbf{J' (m,b)}$\n",
    "\n",
    "#### 4. Example:\n",
    "##### Lets consider 10 datapoints of X and y, (generated from sklearn datasets make_regresssion function)\n",
    "##### X = -0.84800948, 1.30590636 , 0.92420797, 0.82362332, -1.01278675, -0.29465035, 1.79776072, 0.6404118, -1.05473698, -0.59247057\n",
    "##### and y = -72.19483897,  74.46861266,  56.95380532,  91.44042926, -52.98535087, -16.45157016, 106.09820313,  50.8259293, -58.22470888, -21.09959797\n",
    "\n",
    "#### Initalization: w=60, b=1, $\\alpha$ = 0.5 and iteration=10\n",
    "#### Iteration 1:\n",
    "\n",
    " |  X  |  y  |  w  |  b  | y' | x(y'-y) | (y'-y) | dw | db | w' | b' | \n",
    " |  ---  |  ---  |  ---  |  ---  |  ---  |  ---  |  ---  |  ---  |  ---  |  ---  |  ---  | \n",
    " | -0.84800948 | -72.19483897 | 60 | 1 | -49.8805688 | -18.92271264 | 22.31427017 | -2.993426537 | -4.747555042 | 61.496713268 | 3.373777521 | \n",
    " | 1.30590636 | 74.46861266 | 60 | 1 | 79.3543816 | 6.380356732 | 4.88576894 |  |  |  |  | \n",
    " | 0.92420797 | 56.95380532 | 60 | 1 | 56.4524782 | -0.46333052 | -0.50132712 |  |  |  |  | \n",
    " | 0.82362332 | 91.44042926 | 60 | 1 | 50.4173992 | -33.78752421 | -41.02303006 |  |  |  |  | \n",
    " | -1.01278675 | -52.98535087 | 60 | 1 | -59.767205 | 6.868572003 | -6.78185413 |  |  |  |  | \n",
    " | -0.29465035 | -16.45157016 | 60 | 1 | -16.679021 | 0.06701847 | -0.22745084 |  |  |  |  | \n",
    " | 1.79776072 | 106.0982031 | 60 | 1 | 108.8656432 | 4.975195053 | 2.76744007 |  |  |  |  | \n",
    " | 0.6404118 | 50.8259293 | 60 | 1 | 39.424708 | -7.301476655 | -11.4012213 |  |  |  |  | \n",
    " | -1.05473698 | -58.22470888 | 60 | 1 | -62.2842188 | 4.281715233 | -4.05950992 |  |  |  |  | \n",
    " | -0.59247057 | -21.09959797 | 60 | 1 | -34.5482342 | 7.967921173 | -13.44863623 |  |  |  |  | \n",
    "#### Iteration 2:\n",
    " \n",
    " |  X  |  y  |  w  |  b  | y' | x(y'-y) | (y'-y) | dw | db | w' | b' | \n",
    " |  ---  |  ---  |  ---  |  ---  |  ---  |  ---  |  ---  |  ---  |  ---  |  ---  |  ---  | \n",
    " | -0.84800948 | -72.19483897 | 61.49671327 | 3.373777521 | -48.77601832 | -19.85938192 | 23.41882065 | -1.069507218 | -2.120944328 | 62.031466878 | 4.434249685 | \n",
    " | 1.30590636 | 74.46861266 | 61.49671327 | 3.373777521 | 83.6827265 | 12.03276986 | 9.214113837 |  |  |  |  | \n",
    " | 0.92420797 | 56.95380532 | 61.49671327 | 3.373777521 | 60.20953005 | 3.008966746 | 3.255724732 |  |  |  |  | \n",
    " | 0.82362332 | 91.44042926 | 61.49671327 | 3.373777521 | 54.02390467 | -30.8171222 | -37.41652459 |  |  |  |  | \n",
    " | -1.01278675 | -52.98535087 | 61.49671327 | 3.373777521 | -58.90927885 | 5.999675762 | -5.923927976 |  |  |  |  | \n",
    " | -0.29465035 | -16.45157016 | 61.49671327 | 3.373777521 | -14.74625057 | -0.502473015 | 1.705319593 |  |  |  |  | \n",
    " | 1.79776072 | 106.0982031 | 61.49671327 | 3.373777521 | 113.930153 | 14.07997192 | 7.831949914 |  |  |  |  | \n",
    " | 0.6404118 | 50.8259293 | 61.49671327 | 3.373777521 | 42.75699836 | -5.167438588 | -8.068930941 |  |  |  |  | \n",
    " | -1.05473698 | -58.22470888 | 61.49671327 | 3.373777521 | -61.48908011 | 3.443053054 | -3.264371232 |  |  |  |  | \n",
    " | -0.59247057 | -21.09959797 | 61.49671327 | 3.373777521 | -33.06121524 | 7.086906203 | -11.96161727 |  |  |  |  | \n",
    "#### Iteration 3:\n",
    "\n",
    " |  X  |  y  |  w  |  b  | y' | x(y'-y) | (y'-y) | dw | db | w' | b' | \n",
    " |  ---  |  ---  |  ---  |  ---  |  ---  |  ---  |  ---  |  ---  |  ---  |  ---  |  ---  | \n",
    " | -0.84800948 | -72.19483897 | 62.03146688 | 4.434249685 | -48.16902229 | -20.37412031 | 24.02581668 | -0.346246743 | -0.970138588 | 62.204590249 | 4.919318979 | \n",
    " | 1.30590636 | 74.46861266 | 62.03146688 | 4.434249685 | 85.4415368 | 14.32961142 | 10.97292414 |  |  |  |  | \n",
    " | 0.92420797 | 56.95380532 | 62.03146688 | 4.434249685 | 61.76422576 | 4.445828914 | 4.810420444 |  |  |  |  | \n",
    " | 0.82362332 | 91.44042926 | 62.03146688 | 4.434249685 | 55.52481238 | -29.58093962 | -35.91561688 |  |  |  |  | \n",
    " | -1.01278675 | -52.98535087 | 62.03146688 | 4.434249685 | -58.39039805 | 5.474160169 | -5.405047182 |  |  |  |  | \n",
    " | -0.29465035 | -16.45157016 | 62.03146688 | 4.434249685 | -13.84334374 | -0.768514827 | 2.608226419 |  |  |  |  | \n",
    " | 1.79776072 | 106.0982031 | 62.03146688 | 4.434249685 | 115.9519842 | 17.71474063 | 9.853781112 |  |  |  |  | \n",
    " | 0.6404118 | 50.8259293 | 62.03146688 | 4.434249685 | 44.15993304 | -4.268982661 | -6.665996255 |  |  |  |  | \n",
    " | -1.05473698 | -58.22470888 | 62.03146688 | 4.434249685 | -60.99263235 | 2.919431246 | -2.767923474 |  |  |  |  | \n",
    " | -0.59247057 | -21.09959797 | 62.03146688 | 4.434249685 | -32.31756885 | 6.646317604 | -11.21797088 |  |  |  |  | \n",
    "#### Iteration 4:\n",
    "\n",
    " |  X  |  y  |  w  |  b  | y' | x(y'-y) | (y'-y) | dw | db | w' | b' | \n",
    " |  ---  |  ---  |  ---  |  ---  |  ---  |  ---  |  ---  |  ---  |  ---  |  ---  |  ---  | \n",
    " | -0.84800948 | -72.19483897 | 62.20459025 | 4.919318979 | -47.83076325 | -20.66096718 | 24.36407572 | -0.088150572 | -0.455824324 | 62.248665535 | 5.147231141 | \n",
    " | 1.30590636 | 74.46861266 | 62.20459025 | 4.919318979 | 86.15268901 | 15.25830961 | 11.68407635 |  |  |  |  | \n",
    " | 0.92420797 | 56.95380532 | 62.20459025 | 4.919318979 | 62.40929706 | 5.042008944 | 5.455491738 |  |  |  |  | \n",
    " | 0.82362332 | 91.44042926 | 62.20459025 | 4.919318979 | 56.15247012 | -29.06398606 | -35.28795914 |  |  |  |  | \n",
    " | -1.01278675 | -52.98535087 | 62.20459025 | 4.919318979 | -58.08066581 | 5.160467463 | -5.095314945 |  |  |  |  | \n",
    " | -0.29465035 | -16.45157016 | 62.20459025 | 4.919318979 | -13.40928531 | -0.896410296 | 3.04228485 |  |  |  |  | \n",
    " | 1.79776072 | 106.0982031 | 62.20459025 | 4.919318979 | 116.7482879 | 19.14630412 | 10.6500848 |  |  |  |  | \n",
    " | 0.6404118 | 50.8259293 | 62.20459025 | 4.919318979 | 44.75587259 | -3.887335945 | -6.070056711 |  |  |  |  | \n",
    " | -1.05473698 | -58.22470888 | 62.20459025 | 4.919318979 | -60.69016268 | 2.600405298 | -2.465453803 |  |  |  |  | \n",
    " | -0.59247057 | -21.09959797 | 62.20459025 | 4.919318979 | -31.93507006 | 6.419698327 | -10.83547209 |  |  |  |  | \n",
    "#### Iteration 5:\n",
    "\n",
    " |  X  |  y  |  w  |  b  | y' | x(y'-y) | (y'-y) | dw | db | w' | b' | \n",
    " |  ---  |  ---  |  ---  |  ---  |  ---  |  ---  |  ---  |  ---  |  ---  |  ---  |  ---  | \n",
    " | -0.84800948 | -72.19483897 | 62.24866554 | 5.147231141 | -47.64022735 | -20.82254343 | 24.55461162 | -0.004803128 | -0.220466718 | 62.251067099 | 5.257464499 | \n",
    " | 1.30590636 | 74.46861266 | 62.24866554 | 5.147231141 | 86.43815936 | 15.63110717 | 11.9695467 |  |  |  |  | \n",
    " | 0.92420797 | 56.95380532 | 62.24866554 | 5.147231141 | 62.67794395 | 5.290294543 | 5.72413863 |  |  |  |  | \n",
    " | 0.82362332 | 91.44042926 | 62.24866554 | 5.147231141 | 56.41668371 | -28.84637359 | -35.02374555 |  |  |  |  | \n",
    " | -1.01278675 | -52.98535087 | 62.24866554 | 5.147231141 | -57.89739252 | 4.974850697 | -4.912041648 |  |  |  |  | \n",
    " | -0.29465035 | -16.45157016 | 62.24866554 | 5.147231141 | -13.19435995 | -0.95973813 | 3.257210214 |  |  |  |  | \n",
    " | 1.79776072 | 106.0982031 | 62.24866554 | 5.147231141 | 117.0554369 | 19.69848449 | 10.95723378 |  |  |  |  | \n",
    " | 0.6404118 | 50.8259293 | 62.24866554 | 5.147231141 | 45.01201108 | -3.72330183 | -5.813918216 |  |  |  |  | \n",
    " | -1.05473698 | -58.22470888 | 62.24866554 | 5.147231141 | -60.50873835 | 2.409050351 | -2.284029475 |  |  |  |  | \n",
    " | -0.59247057 | -21.09959797 | 62.24866554 | 5.147231141 | -31.73327121 | 6.300138446 | -10.63367324 |  |  |  |  | \n",
    "#### Iteration 6:\n",
    "\n",
    " |  X  |  y  |  w  |  b  | y' | x(y'-y) | (y'-y) | dw | db | w' | b' | \n",
    " |  ---  |  ---  |  ---  |  ---  |  ---  |  ---  |  ---  |  ---  |  ---  |  ---  |  ---  | \n",
    " | -0.84800948 | -72.19483897 | 62.2510671 | 5.257464499 | -47.53203054 | -20.91429535 | 24.66280843 | 0.016261735 | -0.109827673 | 62.242936231 | 5.312378336 | \n",
    " | 1.30590636 | 74.46861266 | 62.2510671 | 5.257464499 | 86.55152894 | 15.77915722 | 12.08291628 |  |  |  |  | \n",
    " | 0.92420797 | 56.95380532 | 62.2510671 | 5.257464499 | 62.79039685 | 5.394224413 | 5.836591533 |  |  |  |  | \n",
    " | 0.82362332 | 91.44042926 | 62.2510671 | 5.257464499 | 56.52889506 | -28.75395371 | -34.9115342 |  |  |  |  | \n",
    " | -1.01278675 | -52.98535087 | 62.2510671 | 5.257464499 | -57.78959143 | 4.865671185 | -4.804240562 |  |  |  |  | \n",
    " | -0.29465035 | -16.45157016 | 62.2510671 | 5.257464499 | -13.08483421 | -0.992009926 | 3.366735951 |  |  |  |  | \n",
    " | 1.79776072 | 106.0982031 | 62.2510671 | 5.257464499 | 117.1699877 | 19.90441941 | 11.07178458 |  |  |  |  | \n",
    " | 0.6404118 | 50.8259293 | 62.2510671 | 5.257464499 | 45.12378243 | -3.651722139 | -5.702146868 |  |  |  |  | \n",
    " | -1.05473698 | -58.22470888 | 62.2510671 | 5.257464499 | -60.40103801 | 2.295454819 | -2.176329134 |  |  |  |  | \n",
    " | -0.59247057 | -21.09959797 | 62.2510671 | 5.257464499 | -31.62446071 | 6.235671425 | -10.52486274 |  |  |  |  | \n",
    "#### Iteration 7:\n",
    "\n",
    " |  X  |  y  |  w  |  b  | y' | x(y'-y) | (y'-y) | dw | db | w' | b' | \n",
    " |  ---  |  ---  |  ---  |  ---  |  ---  |  ---  |  ---  |  ---  |  ---  |  ---  |  ---  | \n",
    " | -0.84800948 | -72.19483897 | 62.24293623 | 5.312378336 | -47.47022165 | -20.96670988 | 24.72461732 | 0.017264812 | -0.056287348 | 62.234303825 | 5.340522010 | \n",
    " | 1.30590636 | 74.46861266 | 62.24293623 | 5.312378336 | 86.59582463 | 15.83700324 | 12.12721197 |  |  |  |  | \n",
    " | 0.92420797 | 56.95380532 | 62.24293623 | 5.312378336 | 62.83779608 | 5.438031153 | 5.883990757 |  |  |  |  | \n",
    " | 0.82362332 | 91.44042926 | 62.24293623 | 5.312378336 | 56.57711212 | -28.71424101 | -34.86331714 |  |  |  |  | \n",
    " | -1.01278675 | -52.98535087 | 62.24293623 | 5.312378336 | -57.72644276 | 4.801715047 | -4.74109189 |  |  |  |  | \n",
    " | -0.29465035 | -16.45157016 | 62.24293623 | 5.312378336 | -13.02752461 | -1.00889622 | 3.42404555 |  |  |  |  | \n",
    " | 1.79776072 | 106.0982031 | 62.24293623 | 5.312378336 | 117.2102842 | 19.97686285 | 11.11208106 |  |  |  |  | \n",
    " | 0.6404118 | 50.8259293 | 62.24293623 | 5.312378336 | 45.17348917 | -3.619889361 | -5.652440135 |  |  |  |  | \n",
    " | -1.05473698 | -58.22470888 | 62.24293623 | 5.312378336 | -60.33754825 | 2.228489817 | -2.112839371 |  |  |  |  | \n",
    " | -0.59247057 | -21.09959797 | 62.24293623 | 5.312378336 | -31.56472957 | 6.200282485 | -10.4651316 |  |  |  |  | \n",
    "#### Iteration 8:\n",
    "\n",
    " |  X  |  y  |  w  |  b  | y' | x(y'-y) | (y'-y) | dw | db | w' | b' | \n",
    " |  ---  |  ---  |  ---  |  ---  |  ---  |  ---  |  ---  |  ---  |  ---  |  ---  |  ---  | \n",
    " | -0.84800948 | -72.19483897 | 62.23430383 | 5.34052201 | -47.43475761 | -20.99678371 | 24.76008136 | 0.013235401 | -0.029601909 | 62.227686125 | 5.355322965 | \n",
    " | 1.30590636 | 74.46861266 | 62.23430383 | 5.34052201 | 86.61269519 | 15.85903461 | 12.14408253 |  |  |  |  | \n",
    " | 0.92420797 | 56.95380532 | 62.23430383 | 5.34052201 | 62.85796161 | 5.456668302 | 5.904156293 |  |  |  |  | \n",
    " | 0.82362332 | 91.44042926 | 62.23430383 | 5.34052201 | 56.59814594 | -28.69691706 | -34.84228332 |  |  |  |  | \n",
    " | -1.01278675 | -52.98535087 | 62.23430383 | 5.34052201 | -57.6895563 | 4.764356928 | -4.70420543 |  |  |  |  | \n",
    " | -0.29465035 | -16.45157016 | 62.23430383 | 5.34052201 | -12.99683739 | -1.017938219 | 3.454732766 |  |  |  |  | \n",
    " | 1.79776072 | 106.0982031 | 62.23430383 | 5.34052201 | 117.2229089 | 19.99955899 | 11.12470573 |  |  |  |  | \n",
    " | 0.6404118 | 50.8259293 | 62.23430383 | 5.34052201 | 45.19610454 | -3.605406205 | -5.629824755 |  |  |  |  | \n",
    " | -1.05473698 | -58.22470888 | 62.23430383 | 5.34052201 | -60.30029966 | 2.18920235 | -2.075590779 |  |  |  |  | \n",
    " | -0.59247057 | -21.09959797 | 62.23430383 | 5.34052201 | -31.53147145 | 6.180578027 | -10.43187348 |  |  |  |  | \n",
    "#### Iteration 9:\n",
    "\n",
    " |  X  |  y  |  w  |  b  | y' | x(y'-y) | (y'-y) | dw | db | w' | b' | \n",
    " |  ---  |  ---  |  ---  |  ---  |  ---  |  ---  |  ---  |  ---  |  ---  |  ---  |  ---  | \n",
    " | -0.84800948 | -72.19483897 | 62.22768613 | 5.355322965 | -47.41434479 | -21.01409399 | 24.78049418 | 0.009002054 | -0.015918853 | 62.223185098 | 5.363282391 | \n",
    " | 1.30590636 | 74.46861266 | 62.22768613 | 5.355322965 | 86.61885404 | 15.8670775 | 12.15024138 |  |  |  |  | \n",
    " | 0.92420797 | 56.95380532 | 62.22768613 | 5.355322965 | 62.86664644 | 5.464694885 | 5.912841116 |  |  |  |  | \n",
    " | 0.82362332 | 91.44042926 | 62.22768613 | 5.355322965 | 56.60749641 | -28.6892158 | -34.83293285 |  |  |  |  | \n",
    " | -1.01278675 | -52.98535087 | 62.22768613 | 5.355322965 | -57.66805303 | 4.742578698 | -4.682702156 |  |  |  |  | \n",
    " | -0.29465035 | -16.45157016 | 62.22768613 | 5.355322965 | -12.98008653 | -1.022873866 | 3.471483628 |  |  |  |  | \n",
    " | 1.79776072 | 106.0982031 | 62.22768613 | 5.355322965 | 117.2258128 | 20.00477953 | 11.12760965 |  |  |  |  | \n",
    " | 0.6404118 | 50.8259293 | 62.22768613 | 5.355322965 | 45.20666745 | -3.598641599 | -5.619261854 |  |  |  |  | \n",
    " | -1.05473698 | -58.22470888 | 62.22768613 | 5.355322965 | -60.27851877 | 2.166229242 | -2.053809891 |  |  |  |  | \n",
    " | -0.59247057 | -21.09959797 | 62.22768613 | 5.355322965 | -31.5127497 | 6.169485943 | -10.41315173 |  |  |  |  | \n",
    "#### Iteration 10:\n",
    "\n",
    " |  X  |  y  |  w  |  b  | y' | x(y'-y) | (y'-y) | dw | db | w' | b' | \n",
    " |  ---  |  ---  |  ---  |  ---  |  ---  |  ---  |  ---  |  ---  |  ---  |  ---  |  ---  | \n",
    " | -0.84800948 | -72.19483897 | 62.2231851 | 5.363282391 | -47.40256845 | -21.02408043 | 24.79227052 | 0.005766745 | -0.008719765 | 62.220301725 | 5.367642274 | \n",
    " | 1.30590636 | 74.46861266 | 62.2231851 | 5.363282391 | 86.62093555 | 15.86979575 | 12.15232289 |  |  |  |  | \n",
    " | 0.92420797 | 56.95380532 | 62.2231851 | 5.363282391 | 62.87044598 | 5.468206451 | 5.916640657 |  |  |  |  | \n",
    " | 0.82362332 | 91.44042926 | 62.2231851 | 5.363282391 | 56.61174868 | -28.68571353 | -34.82868058 |  |  |  |  | \n",
    " | -1.01278675 | -52.98535087 | 62.2231851 | 5.363282391 | -57.65553502 | 4.729900626 | -4.670184149 |  |  |  |  | \n",
    " | -0.29465035 | -16.45157016 | 62.2231851 | 5.363282391 | -12.97080088 | -1.025609888 | 3.480769284 |  |  |  |  | \n",
    " | 1.79776072 | 106.0982031 | 62.2231851 | 5.363282391 | 117.2256804 | 20.00454161 | 11.1274773 |  |  |  |  | \n",
    " | 0.6404118 | 50.8259293 | 62.2231851 | 5.363282391 | 45.21174436 | -3.595390282 | -5.614184939 |  |  |  |  | \n",
    " | -1.05473698 | -58.22470888 | 62.2231851 | 5.363282391 | -60.26581194 | 2.152826883 | -2.041103065 |  |  |  |  | \n",
    " | -0.59247057 | -21.09959797 | 62.2231851 | 5.363282391 | -31.50212355 | 6.16319026 | -10.40252558 |  |  |  |  | "
   ]
  },
  {
   "cell_type": "markdown",
   "id": "9d29df74-6fd7-4f34-ac97-7f33ffa5141e",
   "metadata": {},
   "source": [
    "### Now lets put the above into code:\n",
    "#### 1. Generate the above X and y from sklearn datasets make_regresssion function"
   ]
  },
  {
   "cell_type": "code",
   "execution_count": 1,
   "id": "785f4698-6911-41b0-8cce-53fed1c5e068",
   "metadata": {},
   "outputs": [],
   "source": [
    "# importing libraries\n",
    "import numpy                 as np\n",
    "from sklearn                 import datasets\n",
    "import matplotlib.pyplot     as plt"
   ]
  },
  {
   "cell_type": "code",
   "execution_count": 2,
   "id": "ea7ce7e0-733a-44ea-806e-6447a654dbba",
   "metadata": {},
   "outputs": [],
   "source": [
    "# variable declartion\n",
    "RANDOM_STATE = 47"
   ]
  },
  {
   "cell_type": "code",
   "execution_count": 3,
   "id": "4226981c-1eb5-4e0d-8ab4-67d45c999c06",
   "metadata": {},
   "outputs": [],
   "source": [
    "X, y, coef = datasets.make_regression(n_samples=10,             # The number of samples\n",
    "                                n_features=1,                   # The number of features\n",
    "                                n_informative=10,               # The number of informative features\n",
    "                                n_targets=1,                    # The number of regression targets, i.e., the dimension of the y output vector\n",
    "                                bias=2.0,                       # The bias term in the underlying linear model\n",
    "                                effective_rank=None,            # The number of singular vectors required to explain most of the input data\n",
    "                                tail_strength=0.5,              # The relative importance of the fat noisy tail\n",
    "                                noise=20.0,                     # The standard deviation of the gaussian noise applied to the output\n",
    "                                shuffle=True,                   # Shuffle the samples and the features\n",
    "                                coef=True,                      # If True, the coefficients of the underlying linear model are returned\n",
    "                                random_state=RANDOM_STATE)      # Determines random number generation for dataset creation"
   ]
  },
  {
   "cell_type": "code",
   "execution_count": 4,
   "id": "526e513a-d137-4d57-bc4d-24fb0c72e1f1",
   "metadata": {},
   "outputs": [
    {
     "data": {
      "text/plain": [
       "array([[-0.84800948],\n",
       "       [ 1.30590636],\n",
       "       [ 0.92420797],\n",
       "       [ 0.82362332],\n",
       "       [-1.01278675],\n",
       "       [-0.29465035],\n",
       "       [ 1.79776072],\n",
       "       [ 0.6404118 ],\n",
       "       [-1.05473698],\n",
       "       [-0.59247057]])"
      ]
     },
     "execution_count": 4,
     "metadata": {},
     "output_type": "execute_result"
    }
   ],
   "source": [
    "X"
   ]
  },
  {
   "cell_type": "code",
   "execution_count": 5,
   "id": "b6ed2ca7-dcc6-4307-bd88-bd4fa52da9b1",
   "metadata": {},
   "outputs": [
    {
     "data": {
      "text/plain": [
       "array([-72.19483897,  74.46861266,  56.95380532,  91.44042926,\n",
       "       -52.98535087, -16.45157016, 106.09820313,  50.8259293 ,\n",
       "       -58.22470888, -21.09959797])"
      ]
     },
     "execution_count": 5,
     "metadata": {},
     "output_type": "execute_result"
    }
   ],
   "source": [
    "y"
   ]
  },
  {
   "cell_type": "code",
   "execution_count": 6,
   "id": "58ef09b7-f8a9-48ee-a739-d527e7e664ce",
   "metadata": {},
   "outputs": [
    {
     "data": {
      "text/plain": [
       "array(64.08556778)"
      ]
     },
     "execution_count": 6,
     "metadata": {},
     "output_type": "execute_result"
    }
   ],
   "source": [
    "coef"
   ]
  },
  {
   "cell_type": "code",
   "execution_count": 7,
   "id": "f46d90f5-2b2e-4f9c-84cb-145ba498d345",
   "metadata": {},
   "outputs": [
    {
     "name": "stdout",
     "output_type": "stream",
     "text": [
      "[INFO] Shape of X: (10, 1)\n",
      "[INFO] Shape of y: (10,)\n"
     ]
    }
   ],
   "source": [
    "print(f\"[INFO] Shape of X: {X.shape}\")\n",
    "print(f\"[INFO] Shape of y: {y.shape}\")"
   ]
  },
  {
   "cell_type": "code",
   "execution_count": 8,
   "id": "4a11a5d6-45e3-43c6-b1d2-3ff63a64b01e",
   "metadata": {},
   "outputs": [
    {
     "data": {
      "image/png": "[encoded data removed]",
      "text/plain": [
       "<Figure size 576x432 with 1 Axes>"
      ]
     },
     "metadata": {
      "needs_background": "light"
     },
     "output_type": "display_data"
    }
   ],
   "source": [
    "plt.figure(figsize=(8,6))\n",
    "plt.scatter(X[:,0], y, color=\"b\", marker=\"o\", s=30)\n",
    "plt.xlabel(\"Values of X\")\n",
    "plt.ylabel(\"Values of y\")\n",
    "plt.title(\"Random Regression dataset generated by Sklearn datasets\")\n",
    "plt.show()"
   ]
  },
  {
   "cell_type": "code",
   "execution_count": 9,
   "id": "e85b04d2-3fe3-4054-bd11-6a15e8f0761f",
   "metadata": {},
   "outputs": [],
   "source": [
    "class LinearRegression:\n",
    "    def __init__(self, lr=0.001, n_iters=1000):\n",
    "        self.lr = lr\n",
    "        self.n_iters = n_iters\n",
    "        self.weights = None\n",
    "        self.bias = None\n",
    "        \n",
    "    def fit(self, X, y, w=None, b=None):\n",
    "        n_samples, n_features = X.shape\n",
    "        self.weights = np.ones(n_features)*w\n",
    "        self.bias = b\n",
    "        \n",
    "        for i in range(self.n_iters):\n",
    "            y_predicted = np.dot(X, self.weights) + self.bias\n",
    "            \n",
    "            dw = (1/n_samples) * np.sum(np.dot(X.T, (y_predicted - y)))\n",
    "            db = (1/n_samples) * np.sum(y_predicted - y)\n",
    "            \n",
    "            self.weights -= self.lr * dw\n",
    "            self.bias -= self.lr * db\n",
    "            \n",
    "            print(f\"[INFO] Iteration {i+1}: w\\' = {self.weights}, b\\' = {self.bias}\")\n",
    "    \n",
    "    def predict(self, X):\n",
    "        y_predicted = np.dot(X, self.weights) + self.bias\n",
    "        return y_predicted"
   ]
  },
  {
   "cell_type": "code",
   "execution_count": 10,
   "id": "1039c755-79c1-4f40-8452-97228b4e0f1b",
   "metadata": {},
   "outputs": [],
   "source": [
    "def mse(y_true,_predicted):\n",
    "    return np.mean((y_true-y_predicted)**2)"
   ]
  },
  {
   "cell_type": "code",
   "execution_count": 12,
   "id": "dc457801-df5b-46b4-83cb-95158c14aa1a",
   "metadata": {},
   "outputs": [],
   "source": [
    "regressor = LinearRegression(lr=0.5, n_iters=10)"
   ]
  },
  {
   "cell_type": "code",
   "execution_count": 13,
   "id": "514e49c6-13f6-48da-ba75-fd100c781fe9",
   "metadata": {},
   "outputs": [
    {
     "name": "stdout",
     "output_type": "stream",
     "text": [
      "[INFO] Iteration 1: w' = [61.4967133], b' = 3.3737775487137216\n",
      "[INFO] Iteration 2: w' = [62.03146692], b' = 4.434249724663893\n",
      "[INFO] Iteration 3: w' = [62.2045903], b' = 4.919319023363402\n",
      "[INFO] Iteration 4: w' = [62.24866559], b' = 5.147231187087922\n",
      "[INFO] Iteration 5: w' = [62.25106716], b' = 5.25746454652341\n",
      "[INFO] Iteration 6: w' = [62.24293629], b' = 5.312378383278611\n",
      "[INFO] Iteration 7: w' = [62.23430389], b' = 5.340522057436499\n",
      "[INFO] Iteration 8: w' = [62.22768619], b' = 5.355323011680325\n",
      "[INFO] Iteration 9: w' = [62.22318516], b' = 5.363282438290474\n",
      "[INFO] Iteration 10: w' = [62.22030179], b' = 5.3676423209550395\n"
     ]
    }
   ],
   "source": [
    "regressor.fit(X, y, w=60, b=1)"
   ]
  },
  {
   "cell_type": "code",
   "execution_count": 14,
   "id": "c21a0e24-80c7-4d0f-857d-b57bfb8c56c2",
   "metadata": {},
   "outputs": [],
   "source": [
    "y_predicted = regressor.predict(X)"
   ]
  },
  {
   "cell_type": "code",
   "execution_count": 15,
   "id": "ec3a75a0-ab69-4d68-807d-ecfe2d0066f1",
   "metadata": {},
   "outputs": [
    {
     "name": "stdout",
     "output_type": "stream",
     "text": [
      "[INFO] Mean Squared Error: 231.2023216703849\n"
     ]
    }
   ],
   "source": [
    "print(f\"[INFO] Mean Squared Error: {mse(y,y_predicted)}\")"
   ]
  },
  {
   "cell_type": "code",
   "execution_count": 16,
   "id": "1d257b58-c3fc-4fd2-abc1-91a6e4eca077",
   "metadata": {},
   "outputs": [
    {
     "data": {
      "image/png": "[encoded data removed]",
      "text/plain": [
       "<Figure size 576x432 with 1 Axes>"
      ]
     },
     "metadata": {
      "needs_background": "light"
     },
     "output_type": "display_data"
    }
   ],
   "source": [
    "plt.figure(figsize=(8,6))\n",
    "plt.scatter(X[:,0], y, color=\"b\", marker=\"o\", s=30)\n",
    "plt.plot(X, y_predicted, color=\"black\", linewidth=2, label=\"Predicted\")\n",
    "plt.xlabel(\"Values of X\")\n",
    "plt.ylabel(\"Values of y\")\n",
    "plt.title(\"Random Regression dataset generated by Sklearn datasets\")\n",
    "plt.show()"
   ]
  }
 ],
 "metadata": {
  "kernelspec": {
   "display_name": "Python 3 (ipykernel)",
   "language": "python",
   "name": "python3"
  },
  "language_info": {
   "codemirror_mode": {
    "name": "ipython",
    "version": 3
   },
   "file_extension": ".py",
   "mimetype": "text/x-python",
   "name": "python",
   "nbconvert_exporter": "python",
   "pygments_lexer": "ipython3",
   "version": "3.7.2"
  },
  "widgets": {
   "application/vnd.jupyter.widget-state+json": {
    "state": {},
    "version_major": 2,
    "version_minor": 0
   }
  }
 },
 "nbformat": 4,
 "nbformat_minor": 5
}
